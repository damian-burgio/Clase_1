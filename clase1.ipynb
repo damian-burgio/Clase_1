{
 "cells": [
  {
   "cell_type": "markdown",
   "metadata": {},
   "source": [
    "<img src=https://punchit.com.ar/assets2/img/PunchIt_logotipo.png>"
   ]
  },
  {
   "cell_type": "markdown",
   "metadata": {},
   "source": [
    "<img src=https://logodownload.org/wp-content/uploads/2019/10/python-logo-1.png>"
   ]
  },
  {
   "cell_type": "markdown",
   "metadata": {},
   "source": [
    "# CLASE 1"
   ]
  },
  {
   "cell_type": "markdown",
   "metadata": {},
   "source": [
    "# Zen de Python\n",
    "\n",
    "Bello es mejor que feo.\n",
    "\n",
    "Explícito es mejor que implícito.\n",
    "\n",
    "Simple es mejor que complejo.\n",
    "\n",
    "Complejo es mejor que complicado.\n",
    "\n",
    "Plano es mejor que anidado.\n",
    "\n",
    "Disperso es mejor que denso.\n",
    "\n",
    "La legibilidad cuenta.\n",
    "\n",
    "Los casos especiales no son tan especiales como para quebrantar las reglas.\n",
    "\n",
    "Lo práctico gana a lo puro.\n",
    "\n",
    "Los errores nunca deberían dejarse pasar silenciosamente.\n",
    "\n",
    "A menos que hayan sido silenciados explícitamente.\n",
    "\n",
    "Frente a la ambigüedad, rechaza la tentación de adivinar.\n",
    "\n",
    "Debería haber una -y preferiblemente sólo una- manera obvia de hacerlo.\n",
    "\n",
    "Aunque esa manera puede no ser obvia al principio a menos que usted sea holandés.\n",
    "\n",
    "Ahora es mejor que nunca.\n",
    "\n",
    "Aunque nunca es a menudo mejor que ya mismo.\n",
    "\n",
    "Si la implementación es difícil de explicar, es una mala idea.\n",
    "\n",
    "Si la implementación es fácil de explicar, puede que sea una buena idea.\n",
    "\n",
    "Los espacios de nombres (namespaces) son una gran idea ¡Hagamos más de esas cosas!\n"
   ]
  },
  {
   "cell_type": "code",
   "execution_count": null,
   "metadata": {},
   "outputs": [],
   "source": [
    "import this"
   ]
  },
  {
   "cell_type": "code",
   "execution_count": 3,
   "metadata": {},
   "outputs": [
    {
     "name": "stdout",
     "output_type": "stream",
     "text": [
      "Hola Mundo\n"
     ]
    }
   ],
   "source": [
    "print('Hola Mundo')"
   ]
  },
  {
   "cell_type": "code",
   "execution_count": 4,
   "metadata": {},
   "outputs": [],
   "source": [
    "mensaje = 'Hola Mundo'"
   ]
  },
  {
   "cell_type": "code",
   "execution_count": 5,
   "metadata": {},
   "outputs": [
    {
     "name": "stdout",
     "output_type": "stream",
     "text": [
      "Hola Mundo\n"
     ]
    }
   ],
   "source": [
    "print(mensaje)"
   ]
  },
  {
   "cell_type": "markdown",
   "metadata": {},
   "source": [
    "# Nombres de las variables\n",
    "\n",
    "Los nombres de las variables solo pueden contener letras, números y guiones bajos.\n",
    "Pueden comenzar con una letra o un guión bajo, pero no con un número.\n",
    "Por ejemplo, se puede llamar a una variable numero_1 pero no 1er_numero.\n",
    "\n",
    "• No se permiten espacios en los nombres de las variables, pero se pueden usar guiones bajos\n",
    "para separar palabras en nombres de variables. Por ejemplo, mensaje_saludo\n",
    "funciona, pero el mensaje de saludo provocará errores.\n",
    "\n",
    "• Evite el uso de palabras clave de Python y nombres de funciones como nombres de variables;\n",
    "es decir, no use palabras que Python haya reservado para un propósito programático particular, como la palabra print. \n",
    "\n",
    "• Los nombres de las variables deben ser breves pero descriptivos. Por ejemplo, 'nombre' es\n",
    "mejor que 'n', 'numbre_estudiante' es mejor que 'e_n' y 'edad_persona' es mejor\n",
    "que 'la_edad_de_las_personas_mayores'.\n",
    "\n",
    "• Tenga cuidado al usar la letra l minúscula y la letra O mayúscula\n",
    "porque podrían confundirse con los números 1 y 0."
   ]
  },
  {
   "cell_type": "code",
   "execution_count": null,
   "metadata": {},
   "outputs": [],
   "source": []
  },
  {
   "cell_type": "code",
   "execution_count": 7,
   "metadata": {},
   "outputs": [],
   "source": [
    "mensaje = 'Punch IT'\n",
    "\n",
    "print(mesaje)"
   ]
  },
  {
   "cell_type": "code",
   "execution_count": 8,
   "metadata": {},
   "outputs": [
    {
     "name": "stdout",
     "output_type": "stream",
     "text": [
      "Punch IT\n"
     ]
    }
   ],
   "source": [
    "mensaje = 'Punch IT'\n",
    "\n",
    "print(mensaje)"
   ]
  },
  {
   "cell_type": "code",
   "execution_count": 11,
   "metadata": {},
   "outputs": [
    {
     "data": {
      "text/plain": [
       "'Puedo escribir una cadena de esta manera.'"
      ]
     },
     "execution_count": 11,
     "metadata": {},
     "output_type": "execute_result"
    }
   ],
   "source": [
    "'Puedo escribir una cadena de esta manera.'"
   ]
  },
  {
   "cell_type": "code",
   "execution_count": 12,
   "metadata": {},
   "outputs": [
    {
     "data": {
      "text/plain": [
       "'O escribirla de esta manera.'"
      ]
     },
     "execution_count": 12,
     "metadata": {},
     "output_type": "execute_result"
    }
   ],
   "source": [
    "\"O escribirla de esta manera.\""
   ]
  },
  {
   "cell_type": "markdown",
   "metadata": {},
   "source": [
    "\n",
    "## Metodos de las cadenas"
   ]
  },
  {
   "cell_type": "code",
   "execution_count": null,
   "metadata": {},
   "outputs": [],
   "source": [
    "\n",
    "\n",
    "mensaje.upper()\n",
    "\n",
    "lower()\n",
    "\n",
    "capitalize()\n",
    "\n",
    "title()\n",
    "\n",
    "count()\n",
    "\n",
    "find()\n",
    "\n",
    "strip()\n",
    "\n",
    "replace()"
   ]
  },
  {
   "cell_type": "markdown",
   "metadata": {},
   "source": [
    "## Formas de imprimir "
   ]
  },
  {
   "cell_type": "code",
   "execution_count": 15,
   "metadata": {},
   "outputs": [],
   "source": [
    "nombre = 'Ricardo'\n",
    "apellido = 'Bochini'"
   ]
  },
  {
   "cell_type": "code",
   "execution_count": 22,
   "metadata": {},
   "outputs": [
    {
     "name": "stdout",
     "output_type": "stream",
     "text": [
      "Ricardo Bochini\n"
     ]
    }
   ],
   "source": [
    "print(nombre, apellido)"
   ]
  },
  {
   "cell_type": "code",
   "execution_count": 18,
   "metadata": {},
   "outputs": [],
   "source": [
    "nombre_completo = f'{nombre} {apellido}'"
   ]
  },
  {
   "cell_type": "code",
   "execution_count": 20,
   "metadata": {},
   "outputs": [
    {
     "name": "stdout",
     "output_type": "stream",
     "text": [
      "Ricardo Bochini\n"
     ]
    }
   ],
   "source": [
    "print(nombre_completo)"
   ]
  },
  {
   "cell_type": "code",
   "execution_count": 23,
   "metadata": {},
   "outputs": [
    {
     "name": "stdout",
     "output_type": "stream",
     "text": [
      "Utilizando '.format': Ricardo Bochini\n"
     ]
    }
   ],
   "source": [
    "print(\"Utilizando '.format': {} {}\".format(nombre, apellido))"
   ]
  },
  {
   "cell_type": "code",
   "execution_count": 24,
   "metadata": {},
   "outputs": [
    {
     "ename": "SyntaxError",
     "evalue": "invalid syntax (<ipython-input-24-3d55966798d6>, line 1)",
     "output_type": "error",
     "traceback": [
      "\u001b[1;36m  File \u001b[1;32m\"<ipython-input-24-3d55966798d6>\"\u001b[1;36m, line \u001b[1;32m1\u001b[0m\n\u001b[1;33m    print('De los videojuegos, uno de los mejores es Tony Hawk's Pro Skater')\u001b[0m\n\u001b[1;37m                                                               ^\u001b[0m\n\u001b[1;31mSyntaxError\u001b[0m\u001b[1;31m:\u001b[0m invalid syntax\n"
     ]
    }
   ],
   "source": [
    "print('De los videojuegos, uno de los mejores es Tony Hawk's Pro Skater')"
   ]
  },
  {
   "cell_type": "code",
   "execution_count": 27,
   "metadata": {},
   "outputs": [
    {
     "name": "stdout",
     "output_type": "stream",
     "text": [
      "De los videojuegos, uno de los mejores es la saga de 'Tony Hawk's Pro Skater'\n"
     ]
    }
   ],
   "source": [
    "print(\"De los videojuegos, uno de los mejores es la saga de 'Tony Hawk's Pro Skater'\")"
   ]
  },
  {
   "cell_type": "markdown",
   "metadata": {},
   "source": [
    "## Numeros"
   ]
  },
  {
   "cell_type": "code",
   "execution_count": 32,
   "metadata": {},
   "outputs": [
    {
     "data": {
      "text/plain": [
       "int"
      ]
     },
     "execution_count": 32,
     "metadata": {},
     "output_type": "execute_result"
    }
   ],
   "source": [
    "largo = 30\n",
    "\n",
    "type(largo)"
   ]
  },
  {
   "cell_type": "code",
   "execution_count": 34,
   "metadata": {},
   "outputs": [
    {
     "data": {
      "text/plain": [
       "float"
      ]
     },
     "execution_count": 34,
     "metadata": {},
     "output_type": "execute_result"
    }
   ],
   "source": [
    "ancho = 14.6 \n",
    "\n",
    "type(ancho)"
   ]
  },
  {
   "cell_type": "code",
   "execution_count": 42,
   "metadata": {},
   "outputs": [],
   "source": [
    "m_2 = largo * ancho\n",
    "m_2_azulejos = m_2* 0.010"
   ]
  },
  {
   "cell_type": "code",
   "execution_count": null,
   "metadata": {},
   "outputs": [],
   "source": []
  },
  {
   "cell_type": "code",
   "execution_count": 45,
   "metadata": {},
   "outputs": [
    {
     "name": "stdout",
     "output_type": "stream",
     "text": [
      "La cantidad de metros cuadrados azulejos nesarios son 438.0.\n",
      "Generalmente se recomienda agregar un 10%, o sea 4.38 metros cuadrados mas.\n"
     ]
    }
   ],
   "source": [
    "print('''La cantidad de metros cuadrados azulejos nesarios son {}.\n",
    "Generalmente se recomienda agregar un 10%, o sea {} metros cuadrados mas.'''.format(m_2, m_2_azulejos))"
   ]
  },
  {
   "cell_type": "code",
   "execution_count": 39,
   "metadata": {},
   "outputs": [
    {
     "data": {
      "text/plain": [
       "49"
      ]
     },
     "execution_count": 39,
     "metadata": {},
     "output_type": "execute_result"
    }
   ],
   "source": [
    "7*7"
   ]
  },
  {
   "cell_type": "code",
   "execution_count": 40,
   "metadata": {},
   "outputs": [
    {
     "data": {
      "text/plain": [
       "49"
      ]
     },
     "execution_count": 40,
     "metadata": {},
     "output_type": "execute_result"
    }
   ],
   "source": [
    "7**2"
   ]
  },
  {
   "cell_type": "code",
   "execution_count": 46,
   "metadata": {},
   "outputs": [],
   "source": [
    "poblacion_india = 1_409_000_000"
   ]
  },
  {
   "cell_type": "code",
   "execution_count": 47,
   "metadata": {},
   "outputs": [
    {
     "name": "stdout",
     "output_type": "stream",
     "text": [
      "1409000000\n"
     ]
    }
   ],
   "source": [
    "print(poblacion_india)"
   ]
  },
  {
   "cell_type": "code",
   "execution_count": null,
   "metadata": {},
   "outputs": [],
   "source": []
  }
 ],
 "metadata": {
  "kernelspec": {
   "display_name": "Python 3",
   "language": "python",
   "name": "python3"
  },
  "language_info": {
   "codemirror_mode": {
    "name": "ipython",
    "version": 3
   },
   "file_extension": ".py",
   "mimetype": "text/x-python",
   "name": "python",
   "nbconvert_exporter": "python",
   "pygments_lexer": "ipython3",
   "version": "3.8.5"
  }
 },
 "nbformat": 4,
 "nbformat_minor": 4
}
